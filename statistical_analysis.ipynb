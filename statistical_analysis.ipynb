{
  "cells": [
    {
      "cell_type": "markdown",
      "source": [
        "# Statistical analysis\n",
        "\n",
        "This is a frame of the `main` notebook. It contains code to analyse the **SAMSum** dataset and the **training** dataset."
      ],
      "metadata": {
        "id": "BF4puhRrQNmq"
      }
    },
    {
      "cell_type": "markdown",
      "metadata": {
        "id": "hM_4h5N2fjf4"
      },
      "source": [
        " # **II. Data Processing**\n",
        "\n",
        "\n",
        " Here we will process the data inside the SAMSum dataset. Mainly we will keep only 2-characters interactions and transformed the reference summary to first-person summary. We will determine the perspective of the utterance with the last person who has spoken in the dialogue.\n",
        "\n",
        " Also we will keep track of the score obtained for each transformations and give a statistical analysis of it to check the efficiency of the new dataset.\n",
        "\n",
        " Below is an overview of how the data will be collected. We can retrieve important information such as the names of the characters, the last character who has spoken which will be use to write the prompt.  "
      ]
    },
    {
      "cell_type": "markdown",
      "source": [
        "# II.1. Analyzing and cleaning data"
      ],
      "metadata": {
        "id": "kq6aJtZLU2YR"
      }
    },
    {
      "cell_type": "code",
      "execution_count": null,
      "metadata": {
        "id": "PPPFPBSk5y4f"
      },
      "outputs": [],
      "source": [
        "def analyse_row(row):\n",
        "  utterances = row['dialogue'].split(\"\\n\")\n",
        "  last_character = utterances[-1].split(\":\")[0]\n",
        "  characters = []\n",
        "\n",
        "  for utterance in utterances:\n",
        "    new_character = utterance.split(\":\")[0]\n",
        "\n",
        "    if new_character not in characters:\n",
        "      characters.append(new_character)\n",
        "\n",
        "  print('Number of characters:', len(characters))\n",
        "\n",
        "  if len(characters) == 2:\n",
        "    other_character = characters[0] if last_character == characters[1] else characters[1]\n",
        "    print('Last character:', last_character)\n",
        "    print('Other character:', other_character)\n",
        "\n",
        "    prompt = f\"Transform the following third-person sentence into first-person. Replace {last_character}'s pronouns and possessive determiners with first-person counterparts. Replace {other_character}'s pronouns and possessive determiners with second-person counterparts. Adjust verb forms accordingly. Write the transformed sentence only and write this mention at the begining: 'Answer:'. '{row['summary']}'\"\n",
        "\n",
        "    response = get_llama_response([prompt])[0].split(\"Answer:\")[-1]\n",
        "    print('Reference summary:', row['summary'])\n",
        "    print('Model response:', response)\n",
        "\n",
        "sample = dataset['train'].shuffle().select(range(1))\n",
        "for row in sample:\n",
        "  print(analyse_row(row))\n"
      ]
    },
    {
      "cell_type": "markdown",
      "metadata": {
        "id": "FSR_cmJgR-5Z"
      },
      "source": [
        "From the code above we can make a few observations:\n",
        "\n",
        "- The names of the characters are retreived accordingly.\n",
        "- The last character is well identified.\n",
        "- Only two-people dialogues are treated.\n",
        "- The model response is correctly obtained.\n",
        "\n",
        "However sometimes the model is not performing very well. It mostly happens when the first name appearing in the reference summary is not the last character who has spoken and they are not grouped together (if the summary starts with 'Andrew and Bernard' and Bernard is the last speaking character, it works fine). Such data will be considered as **critical** observations.\n",
        "\n",
        "Let's do a statistical overview of the dataset."
      ]
    },
    {
      "cell_type": "markdown",
      "metadata": {
        "id": "ipcHKgABhy68"
      },
      "source": [
        "First we are going to extract the number of two-people dialogues."
      ]
    },
    {
      "cell_type": "code",
      "execution_count": null,
      "metadata": {
        "id": "SNh_UVKJOnYS"
      },
      "outputs": [],
      "source": [
        "def two_characters(example):\n",
        "  characters = set()\n",
        "  utterances = example['dialogue'].split(\"\\n\")\n",
        "\n",
        "  for utterance in utterances:\n",
        "    new_character = utterance.split(\":\")[0]\n",
        "    if new_character not in characters:\n",
        "      characters.add(new_character)\n",
        "\n",
        "  return len(characters) == 2\n",
        "\n",
        "two_characters_dataset = dataset.filter(two_characters).remove_columns('id')\n",
        "\n",
        "two_characters_dataset, dataset"
      ]
    },
    {
      "cell_type": "markdown",
      "metadata": {
        "id": "mDlruCiYiPg_"
      },
      "source": [
        "Then we are going to observe the number of critical observations."
      ]
    },
    {
      "cell_type": "code",
      "execution_count": null,
      "metadata": {
        "id": "atrLi8YPW4xE"
      },
      "outputs": [],
      "source": [
        "def critical_observations(example):\n",
        "  utterances = example['dialogue'].split(\"\\n\")\n",
        "\n",
        "  last_character = utterances[-1].split(\":\")[0]\n",
        "  other_character = \"\"\n",
        "  for utterance in utterances:\n",
        "    if utterance.split(\":\")[0] != last_character:\n",
        "      other_character = utterance.split(\":\")[0]\n",
        "\n",
        "  summary = example['summary'].split(\" \")\n",
        "\n",
        "  for word in summary:\n",
        "    if last_character in word:\n",
        "      return False\n",
        "    elif other_character in word:\n",
        "      return True\n",
        "\n",
        "  return False # None of the characters appear in the summary\n",
        "\n",
        "critical_dataset = two_characters_dataset.filter(critical_observations)\n",
        "\n",
        "critical_dataset, two_characters_dataset"
      ]
    },
    {
      "cell_type": "markdown",
      "metadata": {
        "id": "tiFoDo93iXyG"
      },
      "source": [
        "Let's calculate the different proportions."
      ]
    },
    {
      "cell_type": "code",
      "execution_count": null,
      "metadata": {
        "id": "CNxALnnaV0nB"
      },
      "outputs": [],
      "source": [
        "n_dialogues = dataset['train'].num_rows + dataset['test'].num_rows + dataset['validation'].num_rows\n",
        "n_two_characters_dialogues = two_characters_dataset['train'].num_rows + two_characters_dataset['test'].num_rows + two_characters_dataset['validation'].num_rows\n",
        "n_critical_dialogues = critical_dataset['train'].num_rows + critical_dataset['test'].num_rows + critical_dataset['validation'].num_rows\n",
        "\n",
        "two_characters_proportion = n_two_characters_dialogues/n_dialogues\n",
        "critical_proportion = n_critical_dialogues/n_two_characters_dialogues\n"
      ]
    },
    {
      "cell_type": "markdown",
      "metadata": {
        "id": "lZTfJK4vifsc"
      },
      "source": [
        "And plot them into a pie chart."
      ]
    },
    {
      "cell_type": "code",
      "execution_count": null,
      "metadata": {
        "colab": {
          "base_uri": "https://localhost:8080/",
          "height": 428
        },
        "id": "xvsqYWptUu4z",
        "outputId": "89c1c3cf-8114-4351-d167-90338cb49518"
      },
      "outputs": [
        {
          "output_type": "display_data",
          "data": {
            "text/plain": [
              "<Figure size 640x480 with 1 Axes>"
            ],
            "image/png": "[encoded data removed]"
          },
          "metadata": {}
        }
      ],
      "source": [
        "import matplotlib.pyplot as plt\n",
        "import numpy as np\n",
        "\n",
        "\n",
        "y = np.array([two_characters_proportion*critical_proportion, two_characters_proportion*(1-critical_proportion), 1-two_characters_proportion])\n",
        "labels = ['Critical', 'None critical', 'None two-characters']\n",
        "plt.pie(y, labels=labels, autopct='%1.1f%%')\n",
        "plt.title(\"Overview of the raw dataset\")\n",
        "plt.show()"
      ]
    },
    {
      "cell_type": "markdown",
      "metadata": {
        "id": "ADrHmoZOSLp9"
      },
      "source": [
        "Here the data correlates the SAMSum Corpus paper with 27% of dialogues containing more than two characters. For the rest of the observations, half of them are considered critical."
      ]
    },
    {
      "cell_type": "markdown",
      "source": [
        "# II.2. Creating an adapted dataset"
      ],
      "metadata": {
        "id": "bRlupaJ-rRWt"
      }
    },
    {
      "cell_type": "markdown",
      "metadata": {
        "id": "QVw0ty9HTKJs"
      },
      "source": [
        "We will continue by working with `two_characters_dataset`. The summaries in the SAMSum Corpus paper are not written in first-person therefore we have to adapt our dataset i.e. rewriting all the summaries in first-person.\n",
        "\n",
        "In order to write the prompt correctly, we have to extract the name of the characters involved in the dialogues."
      ]
    },
    {
      "cell_type": "code",
      "execution_count": null,
      "metadata": {
        "id": "SbNJuC0LjsW9"
      },
      "outputs": [],
      "source": [
        "def preprocess_characters(example):\n",
        "  utterances = example['dialogue'].split(\"\\n\")\n",
        "\n",
        "  last_character = utterances[-1].split(\":\")[0]\n",
        "  other_character = \"\"\n",
        "  for utterance in utterances:\n",
        "    if utterance.split(\":\")[0] != last_character:\n",
        "      other_character = utterance.split(\":\")[0]\n",
        "\n",
        "  example['last_character'] = last_character\n",
        "  example['other_character'] = other_character\n",
        "  return example\n",
        "\n",
        "updated_dataset = two_characters_dataset.map(preprocess_characters)\n",
        "print(updated_dataset)\n",
        "\n",
        "for example in updated_dataset['train'].select(range(2)):\n",
        "  print(example)"
      ]
    },
    {
      "cell_type": "markdown",
      "metadata": {
        "id": "lznIsSgMT31E"
      },
      "source": [
        "Then we are going to write the prompt for each summaries."
      ]
    },
    {
      "cell_type": "code",
      "execution_count": null,
      "metadata": {
        "id": "teSRD-OIUWQZ"
      },
      "outputs": [],
      "source": [
        "def preprocess_prompt(example):\n",
        "  prompt = f\"Transform the following third-person sentence into first-person. Replace {example['last_character']}'s pronouns and possessive determiners with first-person counterparts. Replace {example['other_character']}'s pronouns and possessive determiners with second-person counterparts. Adjust verb forms accordingly. Write the transformed sentence only and write this mention at the begining: 'Answer:'. '{example['summary']}'\"\n",
        "\n",
        "  example['prompt'] = prompt\n",
        "\n",
        "  return example\n",
        "\n",
        "prompt_dataset = updated_dataset.map(preprocess_prompt)\n",
        "print(prompt_dataset)\n",
        "\n",
        "\n",
        "for example in prompt_dataset['train'].select(range(2)):\n",
        "  print(example['prompt'])\n"
      ]
    },
    {
      "cell_type": "markdown",
      "metadata": {
        "id": "0CrAQTTPUTAp"
      },
      "source": [
        "Here, we would normally use the **map** attribute to generate the new summaries. However this is not working because of the memory consumption.\n",
        "\n",
        "We will be using another method and store the generated summaries in a csv file.  \n",
        "\n",
        "First we have to log on Google Drive."
      ]
    },
    {
      "cell_type": "code",
      "execution_count": null,
      "metadata": {
        "colab": {
          "base_uri": "https://localhost:8080/"
        },
        "id": "dWYrq0RwC1m2",
        "outputId": "09572b66-4ebb-4aa7-d63f-33d7ee4b96b2"
      },
      "outputs": [
        {
          "output_type": "stream",
          "name": "stdout",
          "text": [
            "Mounted at /content/drive\n"
          ]
        }
      ],
      "source": [
        "import os\n",
        "from google.colab import drive\n",
        "\n",
        "# Mount Google Drive\n",
        "drive.mount('/content/drive', force_remount=True)\n",
        "\n",
        "# Create a folder in the root directory\n",
        "!mkdir -p \"/content/drive/My Drive/Notification Hub\""
      ]
    },
    {
      "cell_type": "markdown",
      "metadata": {
        "id": "K6rWcwe1Vkms"
      },
      "source": [
        "We are going to access the csv file containing all the generated summaries."
      ]
    },
    {
      "cell_type": "code",
      "execution_count": null,
      "metadata": {
        "id": "JiGNZFV5V5vR"
      },
      "outputs": [],
      "source": [
        "import csv\n",
        "\n",
        "file_path = \"/content/drive/My Drive/Notification Hub/generated_summaries.csv\"\n",
        "csv_summaries = []\n",
        "\n",
        "# Open the CSV file and read its content\n",
        "with open(file_path, 'r', newline='', encoding='utf-8') as file:\n",
        "    csv_reader = csv.reader(file)\n",
        "\n",
        "    for row in csv_reader:\n",
        "        csv_summaries.append(row)\n",
        "\n",
        "csv_summaries[-1:-5:-1]"
      ]
    },
    {
      "cell_type": "markdown",
      "metadata": {
        "id": "LywWkb39csDA"
      },
      "source": [
        "We will be adding the generated summary to the dataset. They appear in reverse order so we can use it to our advantage."
      ]
    },
    {
      "cell_type": "code",
      "execution_count": null,
      "metadata": {
        "id": "qQOo8WD_YQhy"
      },
      "outputs": [],
      "source": [
        "def add_generated_summaries(example, generated_summary):\n",
        "  example['generated_summary'] = generated_summary\n",
        "\n",
        "  return example\n",
        "\n",
        "\n",
        "generated_summaries = csv_summaries[::]\n",
        "final_dataset = prompt_dataset.map(lambda example: add_generated_summaries(example, generated_summaries.pop()[0]).copy())\n",
        "print(final_dataset)\n",
        "\n",
        "for example in final_dataset['train'].select(range(5)):\n",
        "  print(f\"Reference summary: {example['summary']}\")\n",
        "  print(f\"Generated summary: {example['generated_summary']}\")\n",
        "  print(\"\\n\")"
      ]
    },
    {
      "cell_type": "markdown",
      "source": [
        "# II.3. Quality and cleaning of the new dataset"
      ],
      "metadata": {
        "id": "jEpXc3K_ucAN"
      }
    },
    {
      "cell_type": "markdown",
      "metadata": {
        "id": "zKkkcg8kc-qS"
      },
      "source": [
        "We can see that the summaries correspond to one another. Also we can already observe some flaws around the generated summaries.\n",
        "\n",
        "In order to have a high quality dataset we have to introduce a metric to measure the quality of the summaries we generated in comparison to the summaries in the initial dataset. After defining the ROUGE score, we will only keep the summaries which have a high ROUGE score.\n",
        "\n"
      ]
    },
    {
      "cell_type": "markdown",
      "source": [
        "\n",
        "\n",
        "# A. Setting up the ROUGE score\n",
        "\n"
      ],
      "metadata": {
        "id": "U-NrWB0_bAgp"
      }
    },
    {
      "cell_type": "markdown",
      "metadata": {
        "id": "GUNQ7sASFDh8"
      },
      "source": [
        "\n",
        "ROUGE is used for evaluating automatic summarization and machine translation software in NLP.\n",
        "\n",
        "This set of metrics has been first intruce with [Lin, Chin-Yew. 2004. ROUGE: a Package for Automatic Evaluation of Summaries. In Proceedings of the Workshop on Text Summarization Branches Out (WAS 2004), Barcelona, Spain, July 25 - 26, 2004]( https://aclanthology.org/W04-1013.pdf).\n",
        "\n",
        "We will be using it to compare the model's answer with the original summary. Because both sentences should be close, it means that we should get a rather high ROUGE score.\n",
        "\n",
        "We are choosing to consider `Rouge-1`, `Rouge-L` and `Rouge-Lsum` because those metrics perform better on short summaries."
      ]
    },
    {
      "cell_type": "code",
      "execution_count": null,
      "metadata": {
        "colab": {
          "base_uri": "https://localhost:8080/"
        },
        "id": "i06IAITpYsh6",
        "outputId": "dc97785b-2410-4dcf-c504-2a12ab764958"
      },
      "outputs": [
        {
          "output_type": "execute_result",
          "data": {
            "text/plain": [
              "[{'rouge1': Score(precision=0.7777777777777778, recall=0.7777777777777778, fmeasure=0.7777777777777778),\n",
              "  'rougeL': Score(precision=0.7777777777777778, recall=0.7777777777777778, fmeasure=0.7777777777777778),\n",
              "  'rougeLsum': Score(precision=0.7777777777777778, recall=0.7777777777777778, fmeasure=0.7777777777777778)},\n",
              " {'rouge1': Score(precision=0.7, recall=0.7, fmeasure=0.7),\n",
              "  'rougeL': Score(precision=0.7, recall=0.7, fmeasure=0.7),\n",
              "  'rougeLsum': Score(precision=0.7, recall=0.7, fmeasure=0.7)}]"
            ]
          },
          "metadata": {},
          "execution_count": 7
        }
      ],
      "source": [
        "from rouge_score import rouge_scorer\n",
        "\n",
        "scorer = rouge_scorer.RougeScorer(['rouge1', 'rougeL', 'rougeLsum'], use_stemmer=True)\n",
        "\n",
        "references = [\"Amanda baked cookies and will bring Jerry some tomorrow. \",\"Olivia and Olivier are voting for liberals in this election. \"]\n",
        "generates =  [\"I baked cookies and will bring you some tomorrow. \", \"I and I am voting for liberals in this election.\"]\n",
        "\n",
        "scores = [scorer.score(reference, generated) for reference, generated in zip(references, generates)]\n",
        "\n",
        "scores"
      ]
    },
    {
      "cell_type": "markdown",
      "metadata": {
        "id": "IDBPNfkmagnz"
      },
      "source": [
        "We can see that the generated summary obtained high scores which is what we except. If the model gives out an answer with an incorrect structure, it will perform very low on the ROUGE score. Therefore we will be keeping only generated summaries with a score higher than **0.5**."
      ]
    },
    {
      "cell_type": "markdown",
      "source": [
        "# B. Cleaning and statistical analysis of the new dataset"
      ],
      "metadata": {
        "id": "NRkX_QMpbp6S"
      }
    },
    {
      "cell_type": "markdown",
      "source": [
        "The last process will be to collect the rouge score of each pair of summaries and keep only the high-rated ones. We will be suppressing every summaries that get a score lower than **0.5**."
      ],
      "metadata": {
        "id": "DQXPprnraNaw"
      }
    },
    {
      "cell_type": "code",
      "execution_count": null,
      "metadata": {
        "id": "xiJetjYPenbJ"
      },
      "outputs": [],
      "source": [
        "def rouge_score(example):\n",
        "  reference = example['summary']\n",
        "  generated = example['generated_summary']\n",
        "\n",
        "  scores = scorer.score(reference, generated)\n",
        "\n",
        "  rougeL = scores['rougeL'].fmeasure\n",
        "\n",
        "  if rougeL > 0.5:\n",
        "    return True\n",
        "  else:\n",
        "    return False\n",
        "\n",
        "\n",
        "processed_dataset = final_dataset.filter(rouge_score)\n",
        "\n",
        "processed_dataset"
      ]
    },
    {
      "cell_type": "markdown",
      "metadata": {
        "id": "MmqzxrNcfxV_"
      },
      "source": [
        "Let's analyse the rouge_score of the given row to see how close the new summaries are to their references."
      ]
    },
    {
      "cell_type": "code",
      "execution_count": null,
      "metadata": {
        "id": "pE-fUyGZtaKj"
      },
      "outputs": [],
      "source": [
        "def process_rouge_score(example):\n",
        "  reference = example['summary']\n",
        "  generated = example['generated_summary']\n",
        "\n",
        "  scores = scorer.score(reference, generated)\n",
        "  example['rouge_score'] = scores['rougeL'].fmeasure\n",
        "\n",
        "  return example\n",
        "\n",
        "rouge_score_dataset = processed_dataset.map(process_rouge_score)\n",
        "rouge_score_dataset"
      ]
    },
    {
      "cell_type": "code",
      "execution_count": null,
      "metadata": {
        "colab": {
          "base_uri": "https://localhost:8080/",
          "height": 300
        },
        "id": "7rC_vjgcuKNI",
        "outputId": "56c7222f-4362-432d-ce21-d0fa795ee1b5"
      },
      "outputs": [
        {
          "output_type": "execute_result",
          "data": {
            "text/plain": [
              "             Values\n",
              "count  11072.000000\n",
              "mean       0.799854\n",
              "std        0.095273\n",
              "min        0.500000\n",
              "25%        0.740741\n",
              "50%        0.807692\n",
              "75%        0.869565\n",
              "max        1.000000"
            ],
            "text/html": [
              "\n",
              "  <div id=\"df-3a487b75-0b24-447d-a8cc-4a072088508d\" class=\"colab-df-container\">\n",
              "    <div>\n",
              "<style scoped>\n",
              "    .dataframe tbody tr th:only-of-type {\n",
              "        vertical-align: middle;\n",
              "    }\n",
              "\n",
              "    .dataframe tbody tr th {\n",
              "        vertical-align: top;\n",
              "    }\n",
              "\n",
              "    .dataframe thead th {\n",
              "        text-align: right;\n",
              "    }\n",
              "</style>\n",
              "<table border=\"1\" class=\"dataframe\">\n",
              "  <thead>\n",
              "    <tr style=\"text-align: right;\">\n",
              "      <th></th>\n",
              "      <th>Values</th>\n",
              "    </tr>\n",
              "  </thead>\n",
              "  <tbody>\n",
              "    <tr>\n",
              "      <th>count</th>\n",
              "      <td>11072.000000</td>\n",
              "    </tr>\n",
              "    <tr>\n",
              "      <th>mean</th>\n",
              "      <td>0.799854</td>\n",
              "    </tr>\n",
              "    <tr>\n",
              "      <th>std</th>\n",
              "      <td>0.095273</td>\n",
              "    </tr>\n",
              "    <tr>\n",
              "      <th>min</th>\n",
              "      <td>0.500000</td>\n",
              "    </tr>\n",
              "    <tr>\n",
              "      <th>25%</th>\n",
              "      <td>0.740741</td>\n",
              "    </tr>\n",
              "    <tr>\n",
              "      <th>50%</th>\n",
              "      <td>0.807692</td>\n",
              "    </tr>\n",
              "    <tr>\n",
              "      <th>75%</th>\n",
              "      <td>0.869565</td>\n",
              "    </tr>\n",
              "    <tr>\n",
              "      <th>max</th>\n",
              "      <td>1.000000</td>\n",
              "    </tr>\n",
              "  </tbody>\n",
              "</table>\n",
              "</div>\n",
              "    <div class=\"colab-df-buttons\">\n",
              "\n",
              "  <div class=\"colab-df-container\">\n",
              "    <button class=\"colab-df-convert\" onclick=\"convertToInteractive('df-3a487b75-0b24-447d-a8cc-4a072088508d')\"\n",
              "            title=\"Convert this dataframe to an interactive table.\"\n",
              "            style=\"display:none;\">\n",
              "\n",
              "  <svg xmlns=\"http://www.w3.org/2000/svg\" height=\"24px\" viewBox=\"0 -960 960 960\">\n",
              "    <path d=\"M120-120v-720h720v720H120Zm60-500h600v-160H180v160Zm220 220h160v-160H400v160Zm0 220h160v-160H400v160ZM180-400h160v-160H180v160Zm440 0h160v-160H620v160ZM180-180h160v-160H180v160Zm440 0h160v-160H620v160Z\"/>\n",
              "  </svg>\n",
              "    </button>\n",
              "\n",
              "  <style>\n",
              "    .colab-df-container {\n",
              "      display:flex;\n",
              "      gap: 12px;\n",
              "    }\n",
              "\n",
              "    .colab-df-convert {\n",
              "      background-color: #E8F0FE;\n",
              "      border: none;\n",
              "      border-radius: 50%;\n",
              "      cursor: pointer;\n",
              "      display: none;\n",
              "      fill: #1967D2;\n",
              "      height: 32px;\n",
              "      padding: 0 0 0 0;\n",
              "      width: 32px;\n",
              "    }\n",
              "\n",
              "    .colab-df-convert:hover {\n",
              "      background-color: #E2EBFA;\n",
              "      box-shadow: 0px 1px 2px rgba(60, 64, 67, 0.3), 0px 1px 3px 1px rgba(60, 64, 67, 0.15);\n",
              "      fill: #174EA6;\n",
              "    }\n",
              "\n",
              "    .colab-df-buttons div {\n",
              "      margin-bottom: 4px;\n",
              "    }\n",
              "\n",
              "    [theme=dark] .colab-df-convert {\n",
              "      background-color: #3B4455;\n",
              "      fill: #D2E3FC;\n",
              "    }\n",
              "\n",
              "    [theme=dark] .colab-df-convert:hover {\n",
              "      background-color: #434B5C;\n",
              "      box-shadow: 0px 1px 3px 1px rgba(0, 0, 0, 0.15);\n",
              "      filter: drop-shadow(0px 1px 2px rgba(0, 0, 0, 0.3));\n",
              "      fill: #FFFFFF;\n",
              "    }\n",
              "  </style>\n",
              "\n",
              "    <script>\n",
              "      const buttonEl =\n",
              "        document.querySelector('#df-3a487b75-0b24-447d-a8cc-4a072088508d button.colab-df-convert');\n",
              "      buttonEl.style.display =\n",
              "        google.colab.kernel.accessAllowed ? 'block' : 'none';\n",
              "\n",
              "      async function convertToInteractive(key) {\n",
              "        const element = document.querySelector('#df-3a487b75-0b24-447d-a8cc-4a072088508d');\n",
              "        const dataTable =\n",
              "          await google.colab.kernel.invokeFunction('convertToInteractive',\n",
              "                                                    [key], {});\n",
              "        if (!dataTable) return;\n",
              "\n",
              "        const docLinkHtml = 'Like what you see? Visit the ' +\n",
              "          '<a target=\"_blank\" href=https://colab.research.google.com/notebooks/data_table.ipynb>data table notebook</a>'\n",
              "          + ' to learn more about interactive tables.';\n",
              "        element.innerHTML = '';\n",
              "        dataTable['output_type'] = 'display_data';\n",
              "        await google.colab.output.renderOutput(dataTable, element);\n",
              "        const docLink = document.createElement('div');\n",
              "        docLink.innerHTML = docLinkHtml;\n",
              "        element.appendChild(docLink);\n",
              "      }\n",
              "    </script>\n",
              "  </div>\n",
              "\n",
              "\n",
              "<div id=\"df-7f6cf409-93e8-4b4c-938c-a78bf31af076\">\n",
              "  <button class=\"colab-df-quickchart\" onclick=\"quickchart('df-7f6cf409-93e8-4b4c-938c-a78bf31af076')\"\n",
              "            title=\"Suggest charts\"\n",
              "            style=\"display:none;\">\n",
              "\n",
              "<svg xmlns=\"http://www.w3.org/2000/svg\" height=\"24px\"viewBox=\"0 0 24 24\"\n",
              "     width=\"24px\">\n",
              "    <g>\n",
              "        <path d=\"M19 3H5c-1.1 0-2 .9-2 2v14c0 1.1.9 2 2 2h14c1.1 0 2-.9 2-2V5c0-1.1-.9-2-2-2zM9 17H7v-7h2v7zm4 0h-2V7h2v10zm4 0h-2v-4h2v4z\"/>\n",
              "    </g>\n",
              "</svg>\n",
              "  </button>\n",
              "\n",
              "<style>\n",
              "  .colab-df-quickchart {\n",
              "      --bg-color: #E8F0FE;\n",
              "      --fill-color: #1967D2;\n",
              "      --hover-bg-color: #E2EBFA;\n",
              "      --hover-fill-color: #174EA6;\n",
              "      --disabled-fill-color: #AAA;\n",
              "      --disabled-bg-color: #DDD;\n",
              "  }\n",
              "\n",
              "  [theme=dark] .colab-df-quickchart {\n",
              "      --bg-color: #3B4455;\n",
              "      --fill-color: #D2E3FC;\n",
              "      --hover-bg-color: #434B5C;\n",
              "      --hover-fill-color: #FFFFFF;\n",
              "      --disabled-bg-color: #3B4455;\n",
              "      --disabled-fill-color: #666;\n",
              "  }\n",
              "\n",
              "  .colab-df-quickchart {\n",
              "    background-color: var(--bg-color);\n",
              "    border: none;\n",
              "    border-radius: 50%;\n",
              "    cursor: pointer;\n",
              "    display: none;\n",
              "    fill: var(--fill-color);\n",
              "    height: 32px;\n",
              "    padding: 0;\n",
              "    width: 32px;\n",
              "  }\n",
              "\n",
              "  .colab-df-quickchart:hover {\n",
              "    background-color: var(--hover-bg-color);\n",
              "    box-shadow: 0 1px 2px rgba(60, 64, 67, 0.3), 0 1px 3px 1px rgba(60, 64, 67, 0.15);\n",
              "    fill: var(--button-hover-fill-color);\n",
              "  }\n",
              "\n",
              "  .colab-df-quickchart-complete:disabled,\n",
              "  .colab-df-quickchart-complete:disabled:hover {\n",
              "    background-color: var(--disabled-bg-color);\n",
              "    fill: var(--disabled-fill-color);\n",
              "    box-shadow: none;\n",
              "  }\n",
              "\n",
              "  .colab-df-spinner {\n",
              "    border: 2px solid var(--fill-color);\n",
              "    border-color: transparent;\n",
              "    border-bottom-color: var(--fill-color);\n",
              "    animation:\n",
              "      spin 1s steps(1) infinite;\n",
              "  }\n",
              "\n",
              "  @keyframes spin {\n",
              "    0% {\n",
              "      border-color: transparent;\n",
              "      border-bottom-color: var(--fill-color);\n",
              "      border-left-color: var(--fill-color);\n",
              "    }\n",
              "    20% {\n",
              "      border-color: transparent;\n",
              "      border-left-color: var(--fill-color);\n",
              "      border-top-color: var(--fill-color);\n",
              "    }\n",
              "    30% {\n",
              "      border-color: transparent;\n",
              "      border-left-color: var(--fill-color);\n",
              "      border-top-color: var(--fill-color);\n",
              "      border-right-color: var(--fill-color);\n",
              "    }\n",
              "    40% {\n",
              "      border-color: transparent;\n",
              "      border-right-color: var(--fill-color);\n",
              "      border-top-color: var(--fill-color);\n",
              "    }\n",
              "    60% {\n",
              "      border-color: transparent;\n",
              "      border-right-color: var(--fill-color);\n",
              "    }\n",
              "    80% {\n",
              "      border-color: transparent;\n",
              "      border-right-color: var(--fill-color);\n",
              "      border-bottom-color: var(--fill-color);\n",
              "    }\n",
              "    90% {\n",
              "      border-color: transparent;\n",
              "      border-bottom-color: var(--fill-color);\n",
              "    }\n",
              "  }\n",
              "</style>\n",
              "\n",
              "  <script>\n",
              "    async function quickchart(key) {\n",
              "      const quickchartButtonEl =\n",
              "        document.querySelector('#' + key + ' button');\n",
              "      quickchartButtonEl.disabled = true;  // To prevent multiple clicks.\n",
              "      quickchartButtonEl.classList.add('colab-df-spinner');\n",
              "      try {\n",
              "        const charts = await google.colab.kernel.invokeFunction(\n",
              "            'suggestCharts', [key], {});\n",
              "      } catch (error) {\n",
              "        console.error('Error during call to suggestCharts:', error);\n",
              "      }\n",
              "      quickchartButtonEl.classList.remove('colab-df-spinner');\n",
              "      quickchartButtonEl.classList.add('colab-df-quickchart-complete');\n",
              "    }\n",
              "    (() => {\n",
              "      let quickchartButtonEl =\n",
              "        document.querySelector('#df-7f6cf409-93e8-4b4c-938c-a78bf31af076 button');\n",
              "      quickchartButtonEl.style.display =\n",
              "        google.colab.kernel.accessAllowed ? 'block' : 'none';\n",
              "    })();\n",
              "  </script>\n",
              "</div>\n",
              "    </div>\n",
              "  </div>\n"
            ]
          },
          "metadata": {},
          "execution_count": 20
        }
      ],
      "source": [
        "import pandas as pd\n",
        "\n",
        "rouge_scores = rouge_score_dataset['train']['rouge_score'] + rouge_score_dataset['test']['rouge_score'] + rouge_score_dataset['validation']['rouge_score']\n",
        "\n",
        "# Create a DataFrame\n",
        "df = pd.DataFrame(rouge_scores, columns=['Values'])\n",
        "\n",
        "# Generate summary statistics\n",
        "summary_stats = df.describe()\n",
        "\n",
        "summary_stats"
      ]
    },
    {
      "cell_type": "markdown",
      "metadata": {
        "id": "9MeFNgERv9I-"
      },
      "source": [
        "Overall the results correspond to what we expect as generated summaries should only change the characters's pronouns and possessive determiners to their respective counterparts.\n",
        "\n",
        "We can see that the max value is **1.0** which is expected because some summaries does not have names in them so should not be changed.\n",
        "\n",
        "The mean and median values are really closed, therefore we can assume that the scores are evenly distributed around the center, and there are no extreme outliers pulling the mean away from the median.\n",
        "\n",
        "Let's dive into the distribution."
      ]
    },
    {
      "cell_type": "code",
      "execution_count": null,
      "metadata": {
        "colab": {
          "base_uri": "https://localhost:8080/",
          "height": 472
        },
        "id": "EODK5nSsx3aj",
        "outputId": "e9f07bc0-0500-4865-fcbc-ce03ab6c8f9a"
      },
      "outputs": [
        {
          "output_type": "display_data",
          "data": {
            "text/plain": [
              "<Figure size 640x480 with 1 Axes>"
            ],
            "image/png": "[encoded data removed]"
          },
          "metadata": {}
        }
      ],
      "source": [
        "plt.hist(rouge_scores, bins=10, edgecolor='black')\n",
        "\n",
        "# Add labels and a title\n",
        "plt.xlabel('ROUGE-L Score')\n",
        "plt.ylabel('Frequency')\n",
        "plt.title('Distribution of ROUGE-L Scores')\n",
        "\n",
        "# Show the plot\n",
        "plt.show()"
      ]
    },
    {
      "cell_type": "markdown",
      "metadata": {
        "id": "zRcrp02RzvpG"
      },
      "source": [
        "From the plot we can assume that rouge-L follows a normal distribution. Therefore it means that LLama's model has a balanced performance with a satisfying overall performance. This is due to the fact that summaries are relatively short so few changes in words can lead in a decrease of the rouge score.\n",
        "\n",
        "\n",
        "We will be training our AI model with the following dataset:"
      ]
    },
    {
      "cell_type": "code",
      "execution_count": null,
      "metadata": {
        "id": "aq8xos38wvE3"
      },
      "outputs": [],
      "source": [
        "ds = rouge_score_dataset.filter(two_characters).remove_columns(['summary', 'last_character', 'other_character', 'prompt', 'rouge_score'])\n",
        "\n",
        "ds"
      ]
    }
  ],
  "metadata": {
    "accelerator": "GPU",
    "colab": {
      "machine_shape": "hm",
      "provenance": [],
      "gpuType": "T4",
      "toc_visible": true
    },
    "kernelspec": {
      "display_name": "Python 3",
      "name": "python3"
    },
    "language_info": {
      "name": "python"
    }
  },
  "nbformat": 4,
  "nbformat_minor": 0
}